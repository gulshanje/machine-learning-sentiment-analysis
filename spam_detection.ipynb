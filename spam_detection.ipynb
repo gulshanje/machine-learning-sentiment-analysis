{
  "nbformat": 4,
  "nbformat_minor": 0,
  "metadata": {
    "colab": {
      "provenance": []
    },
    "kernelspec": {
      "name": "python3",
      "display_name": "Python 3"
    },
    "language_info": {
      "name": "python"
    }
  },
  "cells": [
    {
      "cell_type": "markdown",
      "source": [
        "## **Import packages**"
      ],
      "metadata": {
        "id": "cGphBv8SincC"
      }
    },
    {
      "cell_type": "code",
      "source": [
        "import pandas as pd\n",
        "import numpy as np\n",
        "from sklearn.feature_extraction.text import CountVectorizer\n",
        "from sklearn.model_selection import train_test_split\n",
        "from sklearn.naive_bayes import BernoulliNB"
      ],
      "metadata": {
        "id": "4bq6WjRhiuO6"
      },
      "execution_count": 29,
      "outputs": []
    },
    {
      "cell_type": "markdown",
      "source": [
        "## **Import Dataset**"
      ],
      "metadata": {
        "id": "VCnRxnxUjH1h"
      }
    },
    {
      "cell_type": "code",
      "source": [
        "data=pd.read_csv(\"/content/drive/MyDrive/machine-learning-data/Youtube01-Psy.csv\")\n",
        "print(data.sample(5))"
      ],
      "metadata": {
        "colab": {
          "base_uri": "https://localhost:8080/",
          "height": 0
        },
        "id": "V3-6bkL6jLny",
        "outputId": "f5ab2683-bcbe-4ae9-b6c0-faaa84ba6aa4"
      },
      "execution_count": 19,
      "outputs": [
        {
          "output_type": "stream",
          "name": "stdout",
          "text": [
            "                                COMMENT_ID            AUTHOR  \\\n",
            "130    z12dzlpo0ueie1go404cfjjwsxf1g1lrtdo       Amir effect   \n",
            "116  z135f3rwwnjafnnrv04cirmifl3lipewgl40k          Akymonix   \n",
            "16     z13bgdvyluihfv11i22rgxwhuvabzz1os04       Zielimeek21   \n",
            "241      z124inzqgoyeh33uw23iibficv2kuf2nx  anthony Jennings   \n",
            "218    z12xczhjizrzuhvlp22gh3apkrasg3ggt04       Ben Stalker   \n",
            "\n",
            "                    DATE                                            CONTENT  \\\n",
            "130  2014-11-05T17:18:14  Can somebody wake me up when we get to 3 billi...   \n",
            "116  2014-11-05T07:01:34                                 Made in china....﻿   \n",
            "16   2013-11-28T21:49:00                       I'm only checking the views﻿   \n",
            "241  2014-11-07T23:26:04  People Who Say That \"This Song Is Too Old Now,...   \n",
            "218  2014-11-07T19:27:45       GANGMAN STY- *D-D-D-D-D-D--DROP THE BASS!!*﻿   \n",
            "\n",
            "     CLASS  \n",
            "130      0  \n",
            "116      0  \n",
            "16       0  \n",
            "241      0  \n",
            "218      0  \n"
          ]
        }
      ]
    },
    {
      "cell_type": "markdown",
      "source": [
        "Split the column"
      ],
      "metadata": {
        "id": "rK8P0k6ulSPr"
      }
    },
    {
      "cell_type": "code",
      "source": [
        "data = data[[\"CONTENT\", \"CLASS\"]]\n",
        "print(data.sample(10))"
      ],
      "metadata": {
        "colab": {
          "base_uri": "https://localhost:8080/",
          "height": 0
        },
        "id": "53IBOmMulVcM",
        "outputId": "edf270e4-2a11-42e2-ce59-365bc9c011c2"
      },
      "execution_count": 21,
      "outputs": [
        {
          "output_type": "stream",
          "name": "stdout",
          "text": [
            "                                               CONTENT  CLASS\n",
            "115                                      #2012bitches﻿      0\n",
            "67   OMG this oldspice spraytan party commercial om...      0\n",
            "142  pls http://www10.vakinha.com.br/VaquinhaE.aspx...      1\n",
            "165                                       Song name??﻿      0\n",
            "86                  Suscribe My Channel Please XD lol﻿      1\n",
            "343   Something to dance to, even if your sad JUST ...      0\n",
            "188  Dear person reading this, You are beautiful an...      0\n",
            "37   SUB 4 SUB PLEASE LIKE THIS COMMENT I WANT A SU...      1\n",
            "277  Hey, join me on tsū, a publishing platform whe...      1\n",
            "66                                         psy=korean﻿      0\n"
          ]
        }
      ]
    },
    {
      "cell_type": "markdown",
      "source": [
        "## **Indicate 0 for not spam and 1 for spam**"
      ],
      "metadata": {
        "id": "T77bfK_Zln7T"
      }
    },
    {
      "cell_type": "code",
      "source": [
        "data[\"CLASS\"]= data[\"CLASS\"].map({0:\"Not SPAM\", 1: \"SPAM\"})\n",
        "print(data.sample(5))"
      ],
      "metadata": {
        "colab": {
          "base_uri": "https://localhost:8080/",
          "height": 0
        },
        "id": "-4Xr4Hrnlr7z",
        "outputId": "03f2f4db-75e3-4037-fcb2-56c7a7e9effa"
      },
      "execution_count": 22,
      "outputs": [
        {
          "output_type": "stream",
          "name": "stdout",
          "text": [
            "                                               CONTENT     CLASS\n",
            "259  Hey everyone, I am a new channel and will post...      SPAM\n",
            "267  WHY DOES THIS HAVE 2 BILLION VIEWS THIS SONG I...  Not SPAM\n",
            "81   Admit it you just came here to check the numbe...  Not SPAM\n",
            "312  I still to this day wonder why this video is s...  Not SPAM\n",
            "302  https://www.facebook.com/nicushorbboy add mee ...      SPAM\n"
          ]
        },
        {
          "output_type": "stream",
          "name": "stderr",
          "text": [
            "<ipython-input-22-3676386487f9>:1: SettingWithCopyWarning: \n",
            "A value is trying to be set on a copy of a slice from a DataFrame.\n",
            "Try using .loc[row_indexer,col_indexer] = value instead\n",
            "\n",
            "See the caveats in the documentation: https://pandas.pydata.org/pandas-docs/stable/user_guide/indexing.html#returning-a-view-versus-a-copy\n",
            "  data[\"CLASS\"]= data[\"CLASS\"].map({0:\"Not SPAM\", 1: \"SPAM\"})\n"
          ]
        }
      ]
    },
    {
      "cell_type": "markdown",
      "source": [
        "## **Train Dataset with Bernoulli Algorithm**"
      ],
      "metadata": {
        "id": "pcIJLHKb48QP"
      }
    },
    {
      "cell_type": "code",
      "source": [
        "x=np.array(data[\"CONTENT\"])\n",
        "y=np.array(data[\"CLASS\"])\n",
        "\n",
        "cv=CountVectorizer()\n",
        "x=cv.fit_transform(x)\n",
        "xtrain, xtest, ytrain, ytest = train_test_split(x,y,test_size=0.2, random_state=42)\n",
        "\n",
        "model=BernoulliNB()\n",
        "model.fit(xtrain, ytrain)\n",
        "\n",
        "print(model.score(xtest, ytest))"
      ],
      "metadata": {
        "colab": {
          "base_uri": "https://localhost:8080/",
          "height": 0
        },
        "id": "CiieZeV23djQ",
        "outputId": "333bff76-6154-44f6-b9cd-a6b40bbff56f"
      },
      "execution_count": 42,
      "outputs": [
        {
          "output_type": "stream",
          "name": "stdout",
          "text": [
            "0.9857142857142858\n"
          ]
        }
      ]
    },
    {
      "cell_type": "markdown",
      "source": [
        "## **Validate Trained Data**"
      ],
      "metadata": {
        "id": "XAIpfXw_HKZO"
      }
    },
    {
      "cell_type": "code",
      "source": [
        "hWorld=\"please like http://www.grandi.com\"\n",
        "data=cv.transform([hWorld]).toarray()\n",
        "print(model.predict(data))"
      ],
      "metadata": {
        "id": "yvO6msc-HOaF",
        "outputId": "ba4c4fb7-3d51-4117-bf20-301b7db2825d",
        "colab": {
          "base_uri": "https://localhost:8080/",
          "height": 0
        }
      },
      "execution_count": 46,
      "outputs": [
        {
          "output_type": "stream",
          "name": "stdout",
          "text": [
            "['SPAM']\n"
          ]
        }
      ]
    }
  ]
}